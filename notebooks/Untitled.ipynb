{
 "cells": [
  {
   "cell_type": "code",
   "execution_count": 1,
   "id": "71ed1910",
   "metadata": {},
   "outputs": [],
   "source": [
    "import tensorflow as tf\n",
    "from transformers import pipeline"
   ]
  },
  {
   "cell_type": "code",
   "execution_count": 2,
   "id": "02ef0dfd",
   "metadata": {},
   "outputs": [
    {
     "name": "stderr",
     "output_type": "stream",
     "text": [
      "No model was supplied, defaulted to roberta-large-mnli (https://huggingface.co/roberta-large-mnli)\n",
      "2021-10-20 09:13:02.246038: E tensorflow/stream_executor/cuda/cuda_driver.cc:271] failed call to cuInit: CUDA_ERROR_UNKNOWN: unknown error\n",
      "2021-10-20 09:13:02.246135: I tensorflow/stream_executor/cuda/cuda_diagnostics.cc:169] retrieving CUDA diagnostic information for host: Dunlaptop3000\n",
      "2021-10-20 09:13:02.246159: I tensorflow/stream_executor/cuda/cuda_diagnostics.cc:176] hostname: Dunlaptop3000\n",
      "2021-10-20 09:13:02.246300: I tensorflow/stream_executor/cuda/cuda_diagnostics.cc:200] libcuda reported version is: 470.57.2\n",
      "2021-10-20 09:13:02.246370: I tensorflow/stream_executor/cuda/cuda_diagnostics.cc:204] kernel reported version is: 470.57.2\n",
      "2021-10-20 09:13:02.246390: I tensorflow/stream_executor/cuda/cuda_diagnostics.cc:310] kernel version seems to match DSO: 470.57.2\n",
      "2021-10-20 09:13:02.246999: I tensorflow/core/platform/cpu_feature_guard.cc:142] This TensorFlow binary is optimized with oneAPI Deep Neural Network Library (oneDNN) to use the following CPU instructions in performance-critical operations:  AVX2 FMA\n",
      "To enable them in other operations, rebuild TensorFlow with the appropriate compiler flags.\n",
      "All model checkpoint layers were used when initializing TFRobertaForSequenceClassification.\n",
      "\n",
      "All the layers of TFRobertaForSequenceClassification were initialized from the model checkpoint at roberta-large-mnli.\n",
      "If your task is similar to the task the model of the checkpoint was trained on, you can already use TFRobertaForSequenceClassification for predictions without further training.\n"
     ]
    }
   ],
   "source": [
    "clf = pipeline('zero-shot-classification')\n"
   ]
  },
  {
   "cell_type": "code",
   "execution_count": 14,
   "id": "a7d13f6f",
   "metadata": {},
   "outputs": [
    {
     "name": "stdout",
     "output_type": "stream",
     "text": [
      "Command is 'stop'\n",
      "{'sequence': 'Do nothing', 'labels': ['stop', 'trash', 'ball', 'pants', 'sock'], 'scores': [0.8577921986579895, 0.09571672230958939, 0.022616593167185783, 0.013130169361829758, 0.010744291357696056]}\n",
      "\n",
      "\n",
      "Command is 'sock'\n",
      "{'sequence': 'Get me the stocking', 'labels': ['sock', 'stop', 'ball', 'trash', 'pants'], 'scores': [0.7159720659255981, 0.1410166472196579, 0.0648546889424324, 0.03929055109620094, 0.03886601701378822]}\n",
      "\n",
      "\n",
      "Command is 'pants'\n",
      "{'sequence': 'Trousers', 'labels': ['pants', 'stop', 'ball', 'sock', 'trash'], 'scores': [0.9118253588676453, 0.04536490514874458, 0.020473826676607132, 0.01338485162705183, 0.008951054885983467]}\n",
      "\n",
      "\n",
      "Command is 'trash'\n",
      "{'sequence': 'Empty the bin', 'labels': ['trash', 'stop', 'ball', 'pants', 'sock'], 'scores': [0.7231835722923279, 0.16086240112781525, 0.049971845000982285, 0.03395942971110344, 0.032022759318351746]}\n",
      "\n",
      "\n",
      "Command is 'ball'\n",
      "{'sequence': 'Bouncy!', 'labels': ['ball', 'stop', 'pants', 'sock', 'trash'], 'scores': [0.608772873878479, 0.16943983733654022, 0.08793681114912033, 0.08441346883773804, 0.0494370199739933]}\n",
      "\n",
      "\n",
      "Sorry, either I don't see that item, or could you rephrase, please?\n",
      "{'sequence': 'Goat', 'labels': ['trash', 'stop', 'ball', 'pants', 'sock'], 'scores': [0.4756873846054077, 0.22591903805732727, 0.11389222741127014, 0.10409237444400787, 0.0804089605808258]}\n"
     ]
    }
   ],
   "source": [
    "commands = [\"Do nothing\", \"Get me the stocking\", \"Trousers\", \"Empty the bin\", \"Bouncy!\", \"Goat\"]\n",
    "candidate_labels = ['ball', 'sock', 'trash', 'pants', 'stop']\n",
    "\n",
    "for command in commands:\n",
    "    response = clf(command, candidate_labels)\n",
    "    if response['scores'][0] < .6:\n",
    "        print(\"Sorry, either I don't see that item, or could you rephrase, please?\")\n",
    "        print(response)\n",
    "    else:\n",
    "        print(f\"Command is '{response['labels'][0]}'\\n{response}\\n\\n\")"
   ]
  },
  {
   "cell_type": "code",
   "execution_count": null,
   "id": "cdfcf00f",
   "metadata": {},
   "outputs": [],
   "source": []
  }
 ],
 "metadata": {
  "kernelspec": {
   "display_name": "Python 3 (ipykernel)",
   "language": "python",
   "name": "python3"
  },
  "language_info": {
   "codemirror_mode": {
    "name": "ipython",
    "version": 3
   },
   "file_extension": ".py",
   "mimetype": "text/x-python",
   "name": "python",
   "nbconvert_exporter": "python",
   "pygments_lexer": "ipython3",
   "version": "3.9.7"
  }
 },
 "nbformat": 4,
 "nbformat_minor": 5
}
